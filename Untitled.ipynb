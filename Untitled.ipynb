{
 "cells": [
  {
   "cell_type": "code",
   "execution_count": 2,
   "metadata": {},
   "outputs": [],
   "source": [
    "import numpy as np\n",
    "import matplotlib.pyplot as plt\n",
    "\n",
    "from nn import Net\n",
    "from utils import *\n",
    "from layer import Layer\n",
    "from activations import *\n",
    "\n",
    "import keras\n",
    "from keras.datasets import mnist"
   ]
  },
  {
   "cell_type": "code",
   "execution_count": 4,
   "metadata": {},
   "outputs": [
    {
     "data": {
      "text/plain": [
       "((12665, 784), (12665, 2))"
      ]
     },
     "execution_count": 4,
     "metadata": {},
     "output_type": "execute_result"
    }
   ],
   "source": [
    "(x_train, y_train), (_, _) = mnist.load_data()\n",
    "x_train = x_train.reshape(60000, 784)/255\n",
    "\n",
    "classes = (0,1)\n",
    "\n",
    "inds = [y in classes for y in y_train]\n",
    "x_train, y_train = x_train[inds], to_categorical(y_train[inds]).astype(np.int)\n",
    "\n",
    "x_train.shape, y_train.shape"
   ]
  },
  {
   "cell_type": "code",
   "execution_count": 5,
   "metadata": {},
   "outputs": [],
   "source": [
    "net = Net()\n",
    "net.add_layer(Layer(act=tanh, output_size=50, input_size=784))\n",
    "net.add_layer(Layer(act=tanh, output_size=50))\n",
    "net.add_layer(Layer(act=tanh, output_size=50))\n",
    "net.add_layer(Layer(act=softmax, output_size=2))\n",
    "\n",
    "net.compile(lr=0.005, momentum=0.9)"
   ]
  },
  {
   "cell_type": "code",
   "execution_count": 8,
   "metadata": {},
   "outputs": [
    {
     "name": "stdout",
     "output_type": "stream",
     "text": [
      "iter\t\t\taccuracy\t\t\tloss\n",
      "0\t\t\t0.11148835373075405\t\t\t0.6931852907368152\n",
      "1000\t\t\t0.9846032372680615\t\t\t0.6924165389966545\n",
      "2000\t\t\t0.987998420844848\t\t\t0.6865547340386949\n",
      "3000\t\t\t0.9959731543624161\t\t\t0.04595838336568669\n",
      "4000\t\t\t0.996999605211212\t\t\t0.012512167477521619\n",
      "5000\t\t\t0.9975523095144098\t\t\t0.009738689810673704\n",
      "6000\t\t\t0.9978681405448085\t\t\t0.0084436585581594\n",
      "7000\t\t\t0.9979470983024082\t\t\t0.007605530750890633\n",
      "8000\t\t\t0.9982629293328069\t\t\t0.007037868196369581\n",
      "9000\t\t\t0.9983418870904066\t\t\t0.00660312708658068\n"
     ]
    }
   ],
   "source": [
    "print('iter', 'accuracy', 'loss', sep='\\t\\t\\t')\n",
    "for i in range(10000):\n",
    "    inds = np.random.choice(np.arange(len(x_train)), 50)\n",
    "    x_batch, y_batch = x_train[inds], y_train[inds]\n",
    "\n",
    "    net.forward_pass(x_batch)\n",
    "    net.backward_pass(y_batch)\n",
    "\n",
    "    if i % 1000 == 0:\n",
    "        acc, loss = net.metrics(x_train, y_train)\n",
    "        print(i, acc, loss, sep='\\t\\t\\t')"
   ]
  },
  {
   "cell_type": "code",
   "execution_count": null,
   "metadata": {},
   "outputs": [],
   "source": []
  },
  {
   "cell_type": "code",
   "execution_count": null,
   "metadata": {},
   "outputs": [],
   "source": [
    "a = np.random.randint(0, 10, 10)\n",
    "b"
   ]
  },
  {
   "cell_type": "code",
   "execution_count": 9,
   "metadata": {},
   "outputs": [
    {
     "data": {
      "image/png": "[encoded data removed]",
      "text/plain": [
       "<Figure size 432x288 with 1 Axes>"
      ]
     },
     "metadata": {},
     "output_type": "display_data"
    }
   ],
   "source": [
    "plt.plot(np.random.randint(0, 10, 10))\n",
    "plt.xlim((0, 100))\n",
    "\n",
    "plt.show()"
   ]
  },
  {
   "cell_type": "code",
   "execution_count": null,
   "metadata": {},
   "outputs": [],
   "source": []
  },
  {
   "cell_type": "code",
   "execution_count": null,
   "metadata": {},
   "outputs": [],
   "source": []
  }
 ],
 "metadata": {
  "kernelspec": {
   "display_name": "Python 3",
   "language": "python",
   "name": "python3"
  },
  "language_info": {
   "codemirror_mode": {
    "name": "ipython",
    "version": 3
   },
   "file_extension": ".py",
   "mimetype": "text/x-python",
   "name": "python",
   "nbconvert_exporter": "python",
   "pygments_lexer": "ipython3",
   "version": "3.6.9"
  }
 },
 "nbformat": 4,
 "nbformat_minor": 2
}
