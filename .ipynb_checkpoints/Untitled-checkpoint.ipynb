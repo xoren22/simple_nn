{
 "cells": [
  {
   "cell_type": "code",
   "execution_count": 3,
   "metadata": {},
   "outputs": [],
   "source": [
    "import time\n",
    "import numpy as np\n",
    "import matplotlib.pyplot as plt\n",
    "from IPython.display import clear_output\n",
    "\n",
    "from nn import Net\n",
    "from utils import *\n",
    "from layer import Layer\n",
    "from activations import *\n",
    "\n",
    "import keras\n",
    "from keras.datasets import mnist\n",
    "# import numpy as np\n",
    "# import livelossplot\n",
    "# from keras.losses import *\n",
    "# from keras.layers import *\n",
    "# from keras.optimizers import *\n",
    "# from keras.activations import *\n",
    "# from keras import activations\n",
    "# import matplotlib.pyplot as plt\n",
    "# from keras.models import Sequential\n",
    "# from keras.utils import to_categorical\n",
    "# from IPython.display import clear_output"
   ]
  },
  {
   "cell_type": "code",
   "execution_count": 11,
   "metadata": {},
   "outputs": [
    {
     "ename": "MemoryError",
     "evalue": "Unable to allocate 359. MiB for an array with shape (60000, 784) and data type float64",
     "output_type": "error",
     "traceback": [
      "\u001b[0;31m---------------------------------------------------------------------------\u001b[0m",
      "\u001b[0;31mMemoryError\u001b[0m                               Traceback (most recent call last)",
      "\u001b[0;32m<ipython-input-11-c4be3dce56ae>\u001b[0m in \u001b[0;36m<module>\u001b[0;34m\u001b[0m\n\u001b[1;32m      1\u001b[0m \u001b[0;34m(\u001b[0m\u001b[0mx_train\u001b[0m\u001b[0;34m,\u001b[0m \u001b[0my_train\u001b[0m\u001b[0;34m)\u001b[0m\u001b[0;34m,\u001b[0m \u001b[0;34m(\u001b[0m\u001b[0mx_test\u001b[0m\u001b[0;34m,\u001b[0m \u001b[0my_test\u001b[0m\u001b[0;34m)\u001b[0m \u001b[0;34m=\u001b[0m \u001b[0mmnist\u001b[0m\u001b[0;34m.\u001b[0m\u001b[0mload_data\u001b[0m\u001b[0;34m(\u001b[0m\u001b[0;34m)\u001b[0m\u001b[0;34m\u001b[0m\u001b[0;34m\u001b[0m\u001b[0m\n\u001b[1;32m      2\u001b[0m \u001b[0;34m\u001b[0m\u001b[0m\n\u001b[0;32m----> 3\u001b[0;31m \u001b[0mx_train\u001b[0m \u001b[0;34m=\u001b[0m \u001b[0mx_train\u001b[0m\u001b[0;34m.\u001b[0m\u001b[0mreshape\u001b[0m\u001b[0;34m(\u001b[0m\u001b[0;36m60000\u001b[0m\u001b[0;34m,\u001b[0m \u001b[0;36m784\u001b[0m\u001b[0;34m)\u001b[0m\u001b[0;34m/\u001b[0m\u001b[0;36m255\u001b[0m\u001b[0;34m\u001b[0m\u001b[0;34m\u001b[0m\u001b[0m\n\u001b[0m\u001b[1;32m      4\u001b[0m \u001b[0mx_test\u001b[0m  \u001b[0;34m=\u001b[0m \u001b[0mx_test\u001b[0m\u001b[0;34m.\u001b[0m\u001b[0mreshape\u001b[0m \u001b[0;34m(\u001b[0m\u001b[0;36m10000\u001b[0m\u001b[0;34m,\u001b[0m \u001b[0;36m784\u001b[0m\u001b[0;34m)\u001b[0m\u001b[0;34m/\u001b[0m\u001b[0;36m255\u001b[0m\u001b[0;34m\u001b[0m\u001b[0;34m\u001b[0m\u001b[0m\n\u001b[1;32m      5\u001b[0m \u001b[0;34m\u001b[0m\u001b[0m\n",
      "\u001b[0;31mMemoryError\u001b[0m: Unable to allocate 359. MiB for an array with shape (60000, 784) and data type float64"
     ]
    }
   ],
   "source": [
    "(x_train, y_train), (x_test, y_test) = mnist.load_data()\n",
    "\n",
    "x_train = x_train.reshape(60000, 784)/255\n",
    "x_test  = x_test.reshape (10000, 784)/255\n",
    "\n",
    "\n",
    "classes = np.arange(10)\n",
    "\n",
    "inds_train = [y in classes for y in y_train]\n",
    "inds_test  = [y in classes for y in y_test]\n",
    "\n",
    "x_train = x_train[inds_train]\n",
    "x_test  = x_test[inds_test]\n",
    "\n",
    "y_train = to_categorical(y_train[inds_train]).astype(np.int)\n",
    "y_test  = to_categorical(y_test[inds_test]).astype(np.int)\n",
    "\n",
    "(x_train.shape, y_train.shape), (x_test.shape, y_test.shape)"
   ]
  },
  {
   "cell_type": "code",
   "execution_count": 7,
   "metadata": {},
   "outputs": [],
   "source": [
    "net = Net()\n",
    "net.add_layer(Layer(act=tanh, output_size=50, input_size=784))\n",
    "net.add_layer(Layer(act=tanh, output_size=50))\n",
    "net.add_layer(Layer(act=tanh, output_size=50))\n",
    "net.add_layer(Layer(act=softmax, output_size=10))\n",
    "\n",
    "net.compile(lr=0.01, momentum=0.9)"
   ]
  },
  {
   "cell_type": "code",
   "execution_count": 8,
   "metadata": {
    "scrolled": true
   },
   "outputs": [],
   "source": [
    "# neurons = 5\n",
    "# batch_size = 100\n",
    "# layers = net.num_layers - 1\n",
    "\n",
    "# rand = np.random.normal(0,1,batch_size)\n",
    "\n",
    "# for epoch in range(10000):\n",
    "#     inds = np.random.choice(np.arange(len(x_train)), batch_size)\n",
    "#     x_batch, y_batch = x_train[inds], y_train[inds]\n",
    "\n",
    "#     net.forward_pass(x_batch)\n",
    "#     net.backward_pass(y_batch)\n",
    "\n",
    "#     if epoch % 100 == 0:\n",
    "        \n",
    "#         clear_output(wait=True)\n",
    "#         acts = net.get_activations(list(np.arange(net.num_layers-1)))\n",
    "        \n",
    "#         fig, axarr = plt.subplots(nrows=len(acts), ncols=neurons, sharex=True, sharey=True)\n",
    "#         fig.set_size_inches(15, 10)\n",
    "        \n",
    "#         acc, loss = net.metrics(x_test, y_test)\n",
    "#         fig.suptitle('acc - %f5, loss - %f5'%(acc, loss),fontsize=20)\n",
    "#         fig.text(0.5, -0.03, 'Neuron', fontsize=20, ha='center')\n",
    "#         fig.text(-0.03, 0.5, 'Layer',  fontsize=20, va='center', rotation='vertical')\n",
    "        \n",
    "#         for layer in range(layers):\n",
    "#             for neuron in range(neurons):\n",
    "#                 axarr[layer, neuron].set_xlim(-1.1, 1.1)\n",
    "#                 axarr[layer, neuron].set_ylim(-5, 5)\n",
    "#                 axarr[layer, neuron].scatter(acts[layer][:,neurons],rand,s=50,c=y_batch[:,0],alpha=0.8)\n",
    "\n",
    "# #         plt.tight_layout()\n",
    "#         plt.show()"
   ]
  },
  {
   "cell_type": "code",
   "execution_count": 9,
   "metadata": {
    "scrolled": false
   },
   "outputs": [
    {
     "ename": "ValueError",
     "evalue": "operands could not be broadcast together with shapes (500,10) (500,) ",
     "output_type": "error",
     "traceback": [
      "\u001b[0;31m---------------------------------------------------------------------------\u001b[0m",
      "\u001b[0;31mValueError\u001b[0m                                Traceback (most recent call last)",
      "\u001b[0;32m<ipython-input-9-50a0c8b85b32>\u001b[0m in \u001b[0;36m<module>\u001b[0;34m\u001b[0m\n\u001b[1;32m      4\u001b[0m \u001b[0;34m\u001b[0m\u001b[0m\n\u001b[1;32m      5\u001b[0m     \u001b[0mnet\u001b[0m\u001b[0;34m.\u001b[0m\u001b[0mforward_pass\u001b[0m\u001b[0;34m(\u001b[0m\u001b[0mx_batch\u001b[0m\u001b[0;34m)\u001b[0m\u001b[0;34m\u001b[0m\u001b[0;34m\u001b[0m\u001b[0m\n\u001b[0;32m----> 6\u001b[0;31m     \u001b[0mnet\u001b[0m\u001b[0;34m.\u001b[0m\u001b[0mbackward_pass\u001b[0m\u001b[0;34m(\u001b[0m\u001b[0my_batch\u001b[0m\u001b[0;34m)\u001b[0m\u001b[0;34m\u001b[0m\u001b[0;34m\u001b[0m\u001b[0m\n\u001b[0m\u001b[1;32m      7\u001b[0m \u001b[0;34m\u001b[0m\u001b[0m\n\u001b[1;32m      8\u001b[0m     \u001b[0;32mif\u001b[0m \u001b[0mepoch\u001b[0m \u001b[0;34m%\u001b[0m \u001b[0;36m100\u001b[0m \u001b[0;34m==\u001b[0m \u001b[0;36m0\u001b[0m\u001b[0;34m:\u001b[0m\u001b[0;34m\u001b[0m\u001b[0;34m\u001b[0m\u001b[0m\n",
      "\u001b[0;32m~/Desktop/simple_nn_builder/nn.py\u001b[0m in \u001b[0;36mbackward_pass\u001b[0;34m(self, y)\u001b[0m\n\u001b[1;32m     99\u001b[0m         \u001b[0;32mdef\u001b[0m \u001b[0mbackward_pass\u001b[0m\u001b[0;34m(\u001b[0m\u001b[0mself\u001b[0m\u001b[0;34m,\u001b[0m \u001b[0my\u001b[0m\u001b[0;34m)\u001b[0m\u001b[0;34m:\u001b[0m\u001b[0;34m\u001b[0m\u001b[0;34m\u001b[0m\u001b[0m\n\u001b[1;32m    100\u001b[0m                 \u001b[0;32mfor\u001b[0m \u001b[0mlyr\u001b[0m \u001b[0;32min\u001b[0m \u001b[0mself\u001b[0m\u001b[0;34m.\u001b[0m\u001b[0mlayers\u001b[0m\u001b[0;34m[\u001b[0m\u001b[0;34m:\u001b[0m\u001b[0;34m:\u001b[0m\u001b[0;34m-\u001b[0m\u001b[0;36m1\u001b[0m\u001b[0;34m]\u001b[0m\u001b[0;34m:\u001b[0m\u001b[0;34m\u001b[0m\u001b[0;34m\u001b[0m\u001b[0m\n\u001b[0;32m--> 101\u001b[0;31m                         \u001b[0mlyr\u001b[0m\u001b[0;34m.\u001b[0m\u001b[0mbackward_pass\u001b[0m\u001b[0;34m(\u001b[0m\u001b[0my\u001b[0m\u001b[0;34m)\u001b[0m\u001b[0;34m\u001b[0m\u001b[0;34m\u001b[0m\u001b[0m\n\u001b[0m\u001b[1;32m    102\u001b[0m \u001b[0;34m\u001b[0m\u001b[0m\n\u001b[1;32m    103\u001b[0m \u001b[0;34m\u001b[0m\u001b[0m\n",
      "\u001b[0;32m~/Desktop/simple_nn_builder/layer.py\u001b[0m in \u001b[0;36mbackward_pass\u001b[0;34m(self, y)\u001b[0m\n\u001b[1;32m     38\u001b[0m         \u001b[0;32mdef\u001b[0m \u001b[0mbackward_pass\u001b[0m\u001b[0;34m(\u001b[0m\u001b[0mself\u001b[0m\u001b[0;34m,\u001b[0m \u001b[0my\u001b[0m\u001b[0;34m)\u001b[0m\u001b[0;34m:\u001b[0m\u001b[0;34m\u001b[0m\u001b[0;34m\u001b[0m\u001b[0m\n\u001b[1;32m     39\u001b[0m                 \u001b[0;32mif\u001b[0m \u001b[0mself\u001b[0m\u001b[0;34m.\u001b[0m\u001b[0mact\u001b[0m \u001b[0;34m==\u001b[0m \u001b[0msoftmax\u001b[0m\u001b[0;34m:\u001b[0m\u001b[0;34m\u001b[0m\u001b[0;34m\u001b[0m\u001b[0m\n\u001b[0;32m---> 40\u001b[0;31m                         \u001b[0mself\u001b[0m\u001b[0;34m.\u001b[0m\u001b[0mdelta_error\u001b[0m \u001b[0;34m=\u001b[0m \u001b[0mself\u001b[0m\u001b[0;34m.\u001b[0m\u001b[0mactivation\u001b[0m \u001b[0;34m-\u001b[0m \u001b[0my\u001b[0m\u001b[0;34m\u001b[0m\u001b[0;34m\u001b[0m\u001b[0m\n\u001b[0m\u001b[1;32m     41\u001b[0m \u001b[0;34m\u001b[0m\u001b[0m\n\u001b[1;32m     42\u001b[0m                 \u001b[0;32melif\u001b[0m \u001b[0mself\u001b[0m\u001b[0;34m.\u001b[0m\u001b[0mact\u001b[0m \u001b[0;34m==\u001b[0m \u001b[0mtanh\u001b[0m\u001b[0;34m:\u001b[0m\u001b[0;34m\u001b[0m\u001b[0;34m\u001b[0m\u001b[0m\n",
      "\u001b[0;31mValueError\u001b[0m: operands could not be broadcast together with shapes (500,10) (500,) "
     ]
    }
   ],
   "source": [
    "for epoch in range(10000):\n",
    "    inds = np.random.choice(np.arange(len(x_train)), 500)\n",
    "    x_batch, y_batch = x_train[inds], y_train[inds]\n",
    "\n",
    "    net.forward_pass(x_batch)\n",
    "    net.backward_pass(y_batch)\n",
    "\n",
    "    if epoch % 100 == 0:\n",
    "        acc, loss = net.metrics(x_test, y_test)\n",
    "        print('acc - %f2, loss - %f5'%(acc*100, loss))"
   ]
  },
  {
   "cell_type": "code",
   "execution_count": 10,
   "metadata": {},
   "outputs": [
    {
     "data": {
      "text/plain": [
       "array([6, 5, 5, 1, 7, 9, 3, 2, 8, 6, 8, 3, 8, 3, 5, 8, 6, 8, 7, 1, 4, 5,\n",
       "       8, 1, 9, 6, 6, 7, 7, 9, 0, 0, 8, 1, 1, 9, 4, 7, 9, 7, 1, 1, 3, 8,\n",
       "       1, 3, 1, 8, 5, 2, 9, 8, 9, 8, 7, 7, 9, 8, 2, 3, 4, 1, 4, 3, 4, 0,\n",
       "       8, 0, 0, 8, 6, 2, 6, 0, 5, 3, 7, 0, 9, 2, 9, 2, 2, 2, 9, 9, 5, 0,\n",
       "       3, 5, 3, 2, 9, 4, 9, 8, 2, 9, 4, 6, 6, 7, 6, 1, 9, 1, 3, 7, 3, 0,\n",
       "       7, 3, 3, 3, 2, 4, 5, 0, 8, 6, 4, 4, 6, 6, 0, 7, 2, 3, 3, 0, 8, 8,\n",
       "       3, 1, 5, 5, 9, 6, 5, 6, 2, 2, 1, 4, 7, 9, 8, 3, 9, 9, 8, 9, 5, 9,\n",
       "       6, 4, 2, 5, 0, 0, 3, 0, 0, 4, 2, 6, 6, 6, 1, 1, 7, 8, 0, 6, 4, 4,\n",
       "       8, 3, 9, 7, 3, 4, 8, 4, 8, 3, 1, 5, 3, 9, 8, 3, 7, 4, 7, 3, 1, 1,\n",
       "       2, 0, 5, 4, 0, 4, 8, 8, 2, 6, 1, 9, 2, 4, 4, 3, 5, 7, 3, 1, 6, 0,\n",
       "       7, 8, 9, 6, 3, 8, 5, 2, 9, 9, 2, 0, 2, 1, 6, 8, 4, 8, 6, 5, 1, 8,\n",
       "       3, 6, 2, 7, 3, 6, 5, 9, 7, 3, 0, 1, 0, 9, 2, 8, 5, 2, 7, 7, 2, 5,\n",
       "       9, 1, 3, 3, 3, 9, 9, 1, 5, 1, 5, 3, 6, 3, 5, 1, 9, 2, 9, 9, 9, 0,\n",
       "       7, 6, 8, 6, 1, 3, 6, 6, 1, 6, 6, 1, 1, 4, 1, 1, 8, 3, 3, 7, 5, 1,\n",
       "       1, 3, 7, 9, 1, 7, 6, 9, 0, 3, 3, 1, 5, 9, 1, 4, 6, 5, 2, 1, 6, 3,\n",
       "       8, 3, 3, 8, 1, 0, 4, 6, 3, 2, 5, 8, 8, 0, 5, 3, 9, 4, 3, 4, 7, 1,\n",
       "       5, 7, 8, 8, 4, 9, 9, 1, 3, 2, 8, 5, 6, 7, 1, 2, 9, 5, 6, 2, 0, 7,\n",
       "       9, 6, 3, 0, 2, 9, 6, 0, 1, 5, 4, 4, 1, 7, 1, 1, 3, 4, 1, 0, 0, 2,\n",
       "       2, 9, 3, 9, 0, 4, 1, 0, 4, 6, 5, 8, 1, 2, 7, 3, 2, 4, 1, 7, 2, 2,\n",
       "       6, 3, 1, 7, 6, 2, 7, 3, 4, 7, 0, 1, 9, 3, 7, 2, 9, 8, 3, 5, 9, 3,\n",
       "       7, 5, 0, 0, 3, 3, 2, 1, 5, 6, 2, 5, 4, 8, 2, 7, 4, 3, 6, 0, 3, 0,\n",
       "       6, 5, 7, 6, 8, 5, 6, 2, 9, 3, 9, 6, 4, 4, 1, 2, 1, 1, 8, 4, 0, 6,\n",
       "       5, 7, 3, 1, 1, 9, 9, 8, 7, 3, 8, 2, 5, 1, 5, 2], dtype=uint8)"
      ]
     },
     "execution_count": 10,
     "metadata": {},
     "output_type": "execute_result"
    }
   ],
   "source": [
    "y_batch"
   ]
  },
  {
   "cell_type": "code",
   "execution_count": null,
   "metadata": {},
   "outputs": [],
   "source": []
  },
  {
   "cell_type": "code",
   "execution_count": null,
   "metadata": {},
   "outputs": [],
   "source": []
  },
  {
   "cell_type": "code",
   "execution_count": null,
   "metadata": {},
   "outputs": [],
   "source": []
  },
  {
   "cell_type": "code",
   "execution_count": null,
   "metadata": {},
   "outputs": [],
   "source": []
  },
  {
   "cell_type": "code",
   "execution_count": null,
   "metadata": {},
   "outputs": [],
   "source": []
  },
  {
   "cell_type": "code",
   "execution_count": null,
   "metadata": {},
   "outputs": [],
   "source": []
  },
  {
   "cell_type": "code",
   "execution_count": null,
   "metadata": {},
   "outputs": [],
   "source": []
  },
  {
   "cell_type": "code",
   "execution_count": null,
   "metadata": {},
   "outputs": [],
   "source": []
  },
  {
   "cell_type": "code",
   "execution_count": null,
   "metadata": {},
   "outputs": [],
   "source": []
  },
  {
   "cell_type": "code",
   "execution_count": null,
   "metadata": {},
   "outputs": [],
   "source": []
  },
  {
   "cell_type": "code",
   "execution_count": null,
   "metadata": {},
   "outputs": [],
   "source": []
  },
  {
   "cell_type": "code",
   "execution_count": null,
   "metadata": {},
   "outputs": [],
   "source": []
  },
  {
   "cell_type": "code",
   "execution_count": null,
   "metadata": {},
   "outputs": [],
   "source": []
  },
  {
   "cell_type": "code",
   "execution_count": null,
   "metadata": {},
   "outputs": [],
   "source": []
  },
  {
   "cell_type": "code",
   "execution_count": null,
   "metadata": {},
   "outputs": [],
   "source": []
  },
  {
   "cell_type": "code",
   "execution_count": null,
   "metadata": {},
   "outputs": [],
   "source": []
  },
  {
   "cell_type": "code",
   "execution_count": null,
   "metadata": {},
   "outputs": [],
   "source": []
  },
  {
   "cell_type": "code",
   "execution_count": null,
   "metadata": {},
   "outputs": [],
   "source": []
  },
  {
   "cell_type": "code",
   "execution_count": null,
   "metadata": {},
   "outputs": [],
   "source": []
  },
  {
   "cell_type": "code",
   "execution_count": 10,
   "metadata": {},
   "outputs": [],
   "source": [
    "from keras.layers import Dense\n",
    "from keras.models import Sequential\n",
    "from keras.optimizers import Nadam\n",
    "\n",
    "model = Sequential()\n",
    "model.add(Dense(input_shape = (784,), units=50, activation='tanh'))\n",
    "model.add(Dense(50, activation='tanh'))\n",
    "model.add(Dense(50, activation='tanh'))\n",
    "model.add(Dense(10, activation='softmax'))\n",
    "\n",
    "opt = Nadam(2e-4)\n",
    "model.compile(optimizer=opt, loss='categorical_crossentropy', metrics=['accuracy'])"
   ]
  },
  {
   "cell_type": "code",
   "execution_count": 11,
   "metadata": {},
   "outputs": [
    {
     "name": "stdout",
     "output_type": "stream",
     "text": [
      "WARNING:tensorflow:From /home/khoren/.local/lib/python3.6/site-packages/keras/backend/tensorflow_backend.py:190: The name tf.get_default_session is deprecated. Please use tf.compat.v1.get_default_session instead.\n",
      "\n"
     ]
    }
   ],
   "source": [
    "model.set_weights(net.get_weights())"
   ]
  },
  {
   "cell_type": "code",
   "execution_count": null,
   "metadata": {},
   "outputs": [],
   "source": [
    "(x_train.shape, y_train.shape), (x_test.shape, y_test.shape)"
   ]
  },
  {
   "cell_type": "code",
   "execution_count": 13,
   "metadata": {},
   "outputs": [
    {
     "name": "stdout",
     "output_type": "stream",
     "text": [
      "10000/10000 [==============================] - 0s 20us/step\n"
     ]
    },
    {
     "data": {
      "text/plain": [
       "[0.12823286741897463, 0.9624]"
      ]
     },
     "execution_count": 13,
     "metadata": {},
     "output_type": "execute_result"
    }
   ],
   "source": [
    "model.evaluate(x_test, y_test)"
   ]
  },
  {
   "cell_type": "code",
   "execution_count": null,
   "metadata": {},
   "outputs": [],
   "source": []
  },
  {
   "cell_type": "code",
   "execution_count": 20,
   "metadata": {},
   "outputs": [
    {
     "data": {
      "text/plain": [
       "array([1, 2, 6, 2, 2, 7, 2, 7, 1, 3, 9, 8, 0, 4, 4, 1, 9, 5, 9, 2, 5, 8,\n",
       "       4, 6, 0, 6, 3, 7, 5, 1, 2, 7, 8, 0, 2, 4, 7, 1, 9, 1, 0, 6, 7, 7,\n",
       "       6, 2, 3, 5, 9, 7, 6, 6, 5, 5, 3, 6, 4, 8, 6, 7, 0, 4, 9, 8, 7, 8,\n",
       "       9, 5, 6, 7, 9, 5, 9, 8, 7, 7, 2, 8, 9, 4, 6, 7, 1, 8, 0, 7, 9, 2,\n",
       "       2, 0, 8, 1, 3, 1, 9, 4, 8, 8, 8, 0, 5, 1, 7, 6, 8, 9, 8, 7, 7, 4,\n",
       "       1, 4, 6, 6, 0, 7, 8, 3, 5, 0, 6, 1, 3, 6, 1, 7, 1, 6, 5, 1, 3, 8,\n",
       "       4, 4, 9, 9, 9, 9, 5, 2, 4, 1, 9, 3, 3, 2, 7, 8, 9, 5, 2, 4, 8, 2,\n",
       "       7, 8, 1, 1, 2, 2, 5, 4, 1, 7, 0, 8, 4, 9, 8, 4, 8, 1, 7, 6, 0, 6,\n",
       "       2, 0, 3, 7, 0, 6, 4, 4, 2, 1, 6, 5, 2, 3, 5, 7, 6, 0, 0, 1, 4, 3,\n",
       "       8, 2, 0, 0, 7, 0, 1, 2, 8, 1, 7, 7, 5, 0, 6, 0, 6, 8, 2, 7, 1, 4,\n",
       "       3, 7, 9, 9, 9, 0, 1, 9, 9, 7, 1, 7, 4, 7, 2, 9, 1, 1, 0, 5, 3, 3,\n",
       "       9, 0, 6, 8, 8, 5, 5, 1, 7, 8, 7, 0, 8, 3, 0, 0, 8, 3, 2, 6, 8, 3,\n",
       "       8, 6, 4, 4, 6, 4, 5, 8, 1, 4, 5, 3, 2, 6, 4, 3, 8, 1, 2, 8, 1, 4,\n",
       "       1, 7, 5, 3, 2, 0, 0, 1, 6, 0, 0, 9, 4, 6, 3, 2, 9, 8, 0, 2, 9, 2,\n",
       "       8, 7, 0, 8, 6, 1, 0, 4, 0, 0, 9, 0, 2, 5, 7, 5, 8, 6, 9, 4, 2, 5,\n",
       "       6, 3, 8, 8, 5, 8, 2, 0, 2, 0, 3, 2, 0, 7, 0, 2, 0, 6, 0, 9, 4, 5,\n",
       "       4, 3, 8, 5, 3, 3, 7, 5, 1, 2, 9, 0, 7, 2, 9, 3, 4, 2, 4, 5, 2, 9,\n",
       "       2, 2, 5, 7, 9, 7, 2, 4, 4, 8, 4, 1, 8, 8, 3, 5, 7, 0, 5, 2, 2, 6,\n",
       "       6, 6, 8, 1, 5, 6, 6, 4, 6, 1, 0, 2, 7, 0, 5, 3, 6, 7, 8, 6, 3, 7,\n",
       "       3, 4, 2, 1, 9, 8, 4, 2, 8, 4, 6, 8, 7, 2, 5, 0, 1, 9, 5, 1, 8, 0,\n",
       "       4, 8, 8, 8, 1, 7, 0, 5, 1, 4, 7, 8, 5, 1, 7, 9, 0, 9, 6, 0, 3, 4,\n",
       "       5, 6, 4, 0, 1, 5, 2, 9, 3, 2, 7, 9, 4, 2, 2, 3, 7, 5, 4, 8, 5, 7,\n",
       "       6, 5, 8, 2, 4, 6, 2, 3, 8, 7, 2, 2, 8, 7, 2, 2])"
      ]
     },
     "execution_count": 20,
     "metadata": {},
     "output_type": "execute_result"
    }
   ],
   "source": [
    "np.argmax(y_batch,1)"
   ]
  },
  {
   "cell_type": "code",
   "execution_count": null,
   "metadata": {},
   "outputs": [],
   "source": []
  },
  {
   "cell_type": "code",
   "execution_count": null,
   "metadata": {},
   "outputs": [],
   "source": []
  }
 ],
 "metadata": {
  "kernelspec": {
   "display_name": "Python 3",
   "language": "python",
   "name": "python3"
  },
  "language_info": {
   "codemirror_mode": {
    "name": "ipython",
    "version": 3
   },
   "file_extension": ".py",
   "mimetype": "text/x-python",
   "name": "python",
   "nbconvert_exporter": "python",
   "pygments_lexer": "ipython3",
   "version": "3.6.9"
  }
 },
 "nbformat": 4,
 "nbformat_minor": 2
}
