{
 "cells": [
  {
   "cell_type": "code",
   "execution_count": 2,
   "metadata": {},
   "outputs": [],
   "source": [
    "import numpy as np\n",
    "import matplotlib.pyplot as plt\n",
    "\n",
    "from nn import Net\n",
    "from utils import *\n",
    "from layer import Layer\n",
    "from activations import *\n",
    "\n",
    "import keras\n",
    "from keras.datasets import mnist"
   ]
  },
  {
   "cell_type": "code",
   "execution_count": 3,
   "metadata": {},
   "outputs": [
    {
     "data": {
      "text/plain": [
       "((12665, 784), (12665, 2))"
      ]
     },
     "execution_count": 3,
     "metadata": {},
     "output_type": "execute_result"
    }
   ],
   "source": [
    "(x_train, y_train), (_, _) = mnist.load_data()\n",
    "x_train = x_train.reshape(60000, 784)/255\n",
    "\n",
    "classes = (0,1)\n",
    "\n",
    "inds = [y in classes for y in y_train]\n",
    "x_train, y_train = x_train[inds], to_categorical(y_train[inds]).astype(np.int)\n",
    "\n",
    "x_batch.shape, y_train.shape"
   ]
  },
  {
   "cell_type": "code",
   "execution_count": 11,
   "metadata": {},
   "outputs": [],
   "source": [
    "net = Net()\n",
    "net.add_layer(Layer(act=tanh, output_size=50, input_size=784))\n",
    "net.add_layer(Layer(act=tanh, output_size=50))\n",
    "net.add_layer(Layer(act=tanh, output_size=50))\n",
    "net.add_layer(Layer(act=softmax, output_size=2))\n",
    "\n",
    "net.compile(lr=0.005, momentum=0.9)"
   ]
  },
  {
   "cell_type": "code",
   "execution_count": 12,
   "metadata": {},
   "outputs": [
    {
     "name": "stdout",
     "output_type": "stream",
     "text": [
      "iter\t\t\taccuracy\t\t\tloss\n",
      "0\t\t\t0.23766285037504936\t\t\t-0.6931732668654526\n",
      "1000\t\t\t0.9868140544808528\t\t\t-0.6919235597150274\n",
      "2000\t\t\t0.9896565337544414\t\t\t-0.6717033862281927\n",
      "3000\t\t\t0.9963679431504145\t\t\t-0.020133657220669104\n",
      "4000\t\t\t0.996999605211212\t\t\t-0.01130202133126636\n",
      "5000\t\t\t0.9976312672720095\t\t\t-0.009243471546069302\n",
      "6000\t\t\t0.9978681405448085\t\t\t-0.008203024220233215\n",
      "7000\t\t\t0.9981050138176076\t\t\t-0.007339385119465242\n",
      "8000\t\t\t0.9982629293328069\t\t\t-0.0067709138786236295\n",
      "9000\t\t\t0.998499802605606\t\t\t-0.006324053419926815\n"
     ]
    }
   ],
   "source": [
    "print('iter', 'accuracy', 'loss', sep='\\t\\t\\t')\n",
    "for i in range(10000):\n",
    "    inds = np.random.choice(np.arange(len(x)), 50)\n",
    "    x_batch, y_batch = x[inds], y[inds]\n",
    "\n",
    "    net.forward_pass(x_batch)\n",
    "    net.backward_pass(y_batch)\n",
    "\n",
    "    if i % 1000 == 0:\n",
    "        acc, loss = net.metrics(x, y)\n",
    "        print(i, acc, loss, sep='\\t\\t\\t')"
   ]
  },
  {
   "cell_type": "code",
   "execution_count": null,
   "metadata": {},
   "outputs": [],
   "source": []
  },
  {
   "cell_type": "code",
   "execution_count": null,
   "metadata": {},
   "outputs": [],
   "source": []
  },
  {
   "cell_type": "code",
   "execution_count": null,
   "metadata": {},
   "outputs": [],
   "source": []
  },
  {
   "cell_type": "code",
   "execution_count": null,
   "metadata": {},
   "outputs": [],
   "source": []
  },
  {
   "cell_type": "code",
   "execution_count": null,
   "metadata": {},
   "outputs": [],
   "source": []
  }
 ],
 "metadata": {
  "kernelspec": {
   "display_name": "Python 3",
   "language": "python",
   "name": "python3"
  },
  "language_info": {
   "codemirror_mode": {
    "name": "ipython",
    "version": 3
   },
   "file_extension": ".py",
   "mimetype": "text/x-python",
   "name": "python",
   "nbconvert_exporter": "python",
   "pygments_lexer": "ipython3",
   "version": "3.6.9"
  }
 },
 "nbformat": 4,
 "nbformat_minor": 2
}
